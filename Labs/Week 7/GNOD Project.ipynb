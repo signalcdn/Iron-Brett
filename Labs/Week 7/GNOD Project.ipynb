{
 "cells": [
  {
   "cell_type": "markdown",
   "metadata": {},
   "source": [
    "# Brett's GNOD Project\n",
    "\n",
    "Disclaimer: These labs have been completed with limited time. I am aware of the large amount of refactoring and optimizing that can be done, but I would rather bring these up with a TA.\n",
    "\n",
    "1. Standardizing Function not working as function, needing to do it manually\n",
    "2. Creating Modules and Loading from Other Notebooks\n",
    "3. General Cleanliness and Functions w/ local variables\n",
    "4. Potential to return duplicates from either cluster or billboard top 100"
   ]
  },
  {
   "cell_type": "code",
   "execution_count": 2,
   "metadata": {},
   "outputs": [],
   "source": [
    "#Import Packages\n",
    "import pandas as pd\n",
    "from bs4 import BeautifulSoup\n",
    "import requests\n"
   ]
  },
  {
   "cell_type": "markdown",
   "metadata": {},
   "source": [
    "# Billboard Top 100"
   ]
  },
  {
   "cell_type": "code",
   "execution_count": 3,
   "metadata": {},
   "outputs": [
    {
     "data": {
      "text/plain": [
       "200"
      ]
     },
     "execution_count": 3,
     "metadata": {},
     "output_type": "execute_result"
    }
   ],
   "source": [
    "# Create response and check response status code\n",
    "url = \"https://www.billboard.com/charts/hot-100\"\n",
    "response = requests.get(url)\n",
    "soup= BeautifulSoup (response.content,\"html.parser\")\n",
    "response.status_code"
   ]
  },
  {
   "cell_type": "code",
   "execution_count": 4,
   "metadata": {},
   "outputs": [],
   "source": [
    "#Create Lists for what we will be scraping\n",
    "\n",
    "ranking = [] \n",
    "titles = [] \n",
    "artists = [] \n",
    "last_week = [] \n",
    "peak_ranks = [] \n",
    "weeks_on_chart = []\n"
   ]
  },
  {
   "cell_type": "code",
   "execution_count": 5,
   "metadata": {},
   "outputs": [],
   "source": [
    "#For Loop to Scrape Desired Data from Site Tags\n",
    "\n",
    "for tag in soup.select(\"div > ol > li > button\"):\n",
    "    \n",
    "    ranking.append(tag.find(\"span\",class_= \"chart-element__rank__number\").get_text())\n",
    "    titles.append(tag.find(\"span\",class_= \"chart-element__information__song text--truncate color--primary\").get_text())\n",
    "    artists.append(tag.find(\"span\",class_= \"chart-element__information__artist text--truncate color--secondary\").get_text())\n",
    "    last_week.append(tag.find(\"span\",class_ = \"chart-element__meta text--center color--secondary text--last\").get_text())\n",
    "    peak_ranks.append(tag.find(\"span\",class_= \"chart-element__meta text--center color--secondary text--peak\").get_text())\n",
    "    weeks_on_chart.append(tag.find(\"span\",class_= \"chart-element__meta text--center color--secondary text--week\").get_text())"
   ]
  },
  {
   "cell_type": "code",
   "execution_count": 6,
   "metadata": {},
   "outputs": [
    {
     "data": {
      "text/html": [
       "<div>\n",
       "<style scoped>\n",
       "    .dataframe tbody tr th:only-of-type {\n",
       "        vertical-align: middle;\n",
       "    }\n",
       "\n",
       "    .dataframe tbody tr th {\n",
       "        vertical-align: top;\n",
       "    }\n",
       "\n",
       "    .dataframe thead th {\n",
       "        text-align: right;\n",
       "    }\n",
       "</style>\n",
       "<table border=\"1\" class=\"dataframe\">\n",
       "  <thead>\n",
       "    <tr style=\"text-align: right;\">\n",
       "      <th></th>\n",
       "      <th>Billboard Rank</th>\n",
       "      <th>Title</th>\n",
       "      <th>Artists</th>\n",
       "      <th>Weeks on Chart</th>\n",
       "      <th>Last Weeks Rank</th>\n",
       "      <th>Highest Rank</th>\n",
       "    </tr>\n",
       "  </thead>\n",
       "  <tbody>\n",
       "    <tr>\n",
       "      <th>0</th>\n",
       "      <td>1</td>\n",
       "      <td>Drivers License</td>\n",
       "      <td>Olivia Rodrigo</td>\n",
       "      <td>6</td>\n",
       "      <td>1</td>\n",
       "      <td>1</td>\n",
       "    </tr>\n",
       "    <tr>\n",
       "      <th>1</th>\n",
       "      <td>2</td>\n",
       "      <td>34+35</td>\n",
       "      <td>Ariana Grande</td>\n",
       "      <td>16</td>\n",
       "      <td>6</td>\n",
       "      <td>2</td>\n",
       "    </tr>\n",
       "    <tr>\n",
       "      <th>2</th>\n",
       "      <td>3</td>\n",
       "      <td>Calling My Phone</td>\n",
       "      <td>Lil Tjay Featuring 6LACK</td>\n",
       "      <td>1</td>\n",
       "      <td>-</td>\n",
       "      <td>3</td>\n",
       "    </tr>\n",
       "    <tr>\n",
       "      <th>3</th>\n",
       "      <td>4</td>\n",
       "      <td>Blinding Lights</td>\n",
       "      <td>The Weeknd</td>\n",
       "      <td>63</td>\n",
       "      <td>3</td>\n",
       "      <td>1</td>\n",
       "    </tr>\n",
       "    <tr>\n",
       "      <th>4</th>\n",
       "      <td>5</td>\n",
       "      <td>Up</td>\n",
       "      <td>Cardi B</td>\n",
       "      <td>2</td>\n",
       "      <td>2</td>\n",
       "      <td>2</td>\n",
       "    </tr>\n",
       "  </tbody>\n",
       "</table>\n",
       "</div>"
      ],
      "text/plain": [
       "  Billboard Rank             Title                   Artists Weeks on Chart  \\\n",
       "0              1   Drivers License            Olivia Rodrigo              6   \n",
       "1              2             34+35             Ariana Grande             16   \n",
       "2              3  Calling My Phone  Lil Tjay Featuring 6LACK              1   \n",
       "3              4   Blinding Lights                The Weeknd             63   \n",
       "4              5                Up                   Cardi B              2   \n",
       "\n",
       "  Last Weeks Rank Highest Rank  \n",
       "0               1            1  \n",
       "1               6            2  \n",
       "2               -            3  \n",
       "3               3            1  \n",
       "4               2            2  "
      ]
     },
     "execution_count": 6,
     "metadata": {},
     "output_type": "execute_result"
    }
   ],
   "source": [
    "#Create DF from Dictionary\n",
    "billboard = pd.DataFrame({ \"Billboard Rank\": ranking, \"Title\":titles, \"Artists\":artists, \"Weeks on Chart\": weeks_on_chart, \"Last Weeks Rank\": last_week, \"Highest Rank\": peak_ranks})\n",
    "\n",
    "billboard.head()"
   ]
  },
  {
   "cell_type": "markdown",
   "metadata": {},
   "source": [
    "# Spotify DataFrame"
   ]
  },
  {
   "cell_type": "code",
   "execution_count": 7,
   "metadata": {},
   "outputs": [],
   "source": [
    "import spotipy\n",
    "from spotipy.oauth2 import SpotifyClientCredentials\n",
    "\n",
    "sp = spotipy.Spotify(auth_manager=SpotifyClientCredentials(client_id= \"33f0230d3b6146bba6504b2cc1cbcf80\" , client_secret=\"153b8c79aee54d7bb62ee64c927b0fb2\" ))"
   ]
  },
  {
   "cell_type": "code",
   "execution_count": 8,
   "metadata": {},
   "outputs": [],
   "source": [
    "def get_playlist_tracks(username, playlist_id):\n",
    "    results = sp.user_playlist_tracks(username, playlist_id)\n",
    "    tracks = results['items']\n",
    "    while results['next']:\n",
    "        results = sp.next(results)\n",
    "        tracks.extend(results['items'])\n",
    "    return tracks"
   ]
  },
  {
   "cell_type": "code",
   "execution_count": 9,
   "metadata": {},
   "outputs": [],
   "source": [
    "def playlist_dataframe(creator, playlist_id):\n",
    "    \n",
    "    # Create List of Columns\n",
    "    playlist_features_list = [\"artist\", \"album\", \"track_name\", \"track_id\", \"danceability\", \"energy\", \"key\", \"loudness\", \"mode\", \"speechiness\",\"acousticness\", \"instrumentalness\", \"liveness\", \"valence\", \"tempo\", \"duration_ms\", \"time_signature\"]\n",
    "    \n",
    "    #Apply Column Names\n",
    "    playlist_df = pd.DataFrame(columns = playlist_features_list)\n",
    "    \n",
    "    # Create Empty Dict\n",
    "    playlist_features = {}\n",
    "    \n",
    "    # Loop through every track in the playlist, extract features and append the features to the playlist df\n",
    "    playlist = sp.user_playlist_tracks(creator, playlist_id)[\"items\"]\n",
    "    \n",
    "    #Create the Loop to Acquire Playlist Data\n",
    "    for track in playlist:\n",
    "        playlist_features[\"artist\"] = track[\"track\"][\"album\"][\"artists\"][0][\"name\"]\n",
    "        playlist_features[\"album\"] = track[\"track\"][\"album\"][\"name\"]\n",
    "        playlist_features[\"track_name\"] = track[\"track\"][\"name\"]\n",
    "        playlist_features[\"track_id\"] = track[\"track\"][\"id\"]\n",
    "        \n",
    "        # Create Audio Feature DataFrame\n",
    "        audio_features = sp.audio_features(playlist_features[\"track_id\"])[0]\n",
    "        \n",
    "        #Create Audio Feature For Loop\n",
    "        for feature in playlist_features_list[4:]:\n",
    "            playlist_features[feature] = audio_features[feature]\n",
    "        \n",
    "        # Concatenate the DataFrames\n",
    "        track_df = pd.DataFrame(playlist_features, index = [0])\n",
    "        playlist_df = pd.concat([playlist_df, track_df], ignore_index = True)\n",
    "    \n",
    "    #return Playlist in DataFrame    \n",
    "    return playlist_df"
   ]
  },
  {
   "cell_type": "code",
   "execution_count": 10,
   "metadata": {},
   "outputs": [
    {
     "data": {
      "text/html": [
       "<div>\n",
       "<style scoped>\n",
       "    .dataframe tbody tr th:only-of-type {\n",
       "        vertical-align: middle;\n",
       "    }\n",
       "\n",
       "    .dataframe tbody tr th {\n",
       "        vertical-align: top;\n",
       "    }\n",
       "\n",
       "    .dataframe thead th {\n",
       "        text-align: right;\n",
       "    }\n",
       "</style>\n",
       "<table border=\"1\" class=\"dataframe\">\n",
       "  <thead>\n",
       "    <tr style=\"text-align: right;\">\n",
       "      <th></th>\n",
       "      <th>artist</th>\n",
       "      <th>album</th>\n",
       "      <th>track_name</th>\n",
       "      <th>track_id</th>\n",
       "      <th>danceability</th>\n",
       "      <th>energy</th>\n",
       "      <th>key</th>\n",
       "      <th>loudness</th>\n",
       "      <th>mode</th>\n",
       "      <th>speechiness</th>\n",
       "      <th>acousticness</th>\n",
       "      <th>instrumentalness</th>\n",
       "      <th>liveness</th>\n",
       "      <th>valence</th>\n",
       "      <th>tempo</th>\n",
       "      <th>duration_ms</th>\n",
       "      <th>time_signature</th>\n",
       "    </tr>\n",
       "  </thead>\n",
       "  <tbody>\n",
       "    <tr>\n",
       "      <th>0</th>\n",
       "      <td>Tash Sultana</td>\n",
       "      <td>Terra Firma</td>\n",
       "      <td>Coma</td>\n",
       "      <td>1UTLAJpm7M7JiAT23qTy08</td>\n",
       "      <td>0.236</td>\n",
       "      <td>0.525</td>\n",
       "      <td>1</td>\n",
       "      <td>-8.233</td>\n",
       "      <td>0</td>\n",
       "      <td>0.0356</td>\n",
       "      <td>0.51000</td>\n",
       "      <td>0.541000</td>\n",
       "      <td>0.1370</td>\n",
       "      <td>0.0773</td>\n",
       "      <td>135.839</td>\n",
       "      <td>332488</td>\n",
       "      <td>4</td>\n",
       "    </tr>\n",
       "    <tr>\n",
       "      <th>1</th>\n",
       "      <td>Besomorph</td>\n",
       "      <td>Wilted</td>\n",
       "      <td>Wilted</td>\n",
       "      <td>2C1Zh4eh7M07Hlx97zYVgF</td>\n",
       "      <td>0.507</td>\n",
       "      <td>0.695</td>\n",
       "      <td>6</td>\n",
       "      <td>-8.441</td>\n",
       "      <td>0</td>\n",
       "      <td>0.0508</td>\n",
       "      <td>0.02130</td>\n",
       "      <td>0.001390</td>\n",
       "      <td>0.0892</td>\n",
       "      <td>0.5440</td>\n",
       "      <td>95.012</td>\n",
       "      <td>188211</td>\n",
       "      <td>4</td>\n",
       "    </tr>\n",
       "    <tr>\n",
       "      <th>2</th>\n",
       "      <td>Fall Out Boy</td>\n",
       "      <td>Folie à Deux</td>\n",
       "      <td>I Don't Care - Single Version</td>\n",
       "      <td>7ewT0nLFkMD8ONbRibePr9</td>\n",
       "      <td>0.550</td>\n",
       "      <td>0.938</td>\n",
       "      <td>11</td>\n",
       "      <td>-3.556</td>\n",
       "      <td>0</td>\n",
       "      <td>0.0522</td>\n",
       "      <td>0.00171</td>\n",
       "      <td>0.000022</td>\n",
       "      <td>0.5550</td>\n",
       "      <td>0.4330</td>\n",
       "      <td>133.990</td>\n",
       "      <td>214493</td>\n",
       "      <td>4</td>\n",
       "    </tr>\n",
       "    <tr>\n",
       "      <th>3</th>\n",
       "      <td>Charlie Cunningham</td>\n",
       "      <td>Permanent Way</td>\n",
       "      <td>Permanent Way</td>\n",
       "      <td>4ewgXAEfRGjay6kmYSfbfW</td>\n",
       "      <td>0.561</td>\n",
       "      <td>0.550</td>\n",
       "      <td>8</td>\n",
       "      <td>-17.419</td>\n",
       "      <td>1</td>\n",
       "      <td>0.0370</td>\n",
       "      <td>0.77000</td>\n",
       "      <td>0.476000</td>\n",
       "      <td>0.0921</td>\n",
       "      <td>0.4460</td>\n",
       "      <td>147.010</td>\n",
       "      <td>252080</td>\n",
       "      <td>4</td>\n",
       "    </tr>\n",
       "    <tr>\n",
       "      <th>4</th>\n",
       "      <td>Oh Wonder</td>\n",
       "      <td>Home Tapes</td>\n",
       "      <td>I Like It When You Love Me</td>\n",
       "      <td>6UiS2IW9dEZwC6TluY5zSy</td>\n",
       "      <td>0.481</td>\n",
       "      <td>0.432</td>\n",
       "      <td>5</td>\n",
       "      <td>-11.982</td>\n",
       "      <td>0</td>\n",
       "      <td>0.3830</td>\n",
       "      <td>0.82400</td>\n",
       "      <td>0.000347</td>\n",
       "      <td>0.1050</td>\n",
       "      <td>0.1940</td>\n",
       "      <td>83.595</td>\n",
       "      <td>226560</td>\n",
       "      <td>4</td>\n",
       "    </tr>\n",
       "    <tr>\n",
       "      <th>...</th>\n",
       "      <td>...</td>\n",
       "      <td>...</td>\n",
       "      <td>...</td>\n",
       "      <td>...</td>\n",
       "      <td>...</td>\n",
       "      <td>...</td>\n",
       "      <td>...</td>\n",
       "      <td>...</td>\n",
       "      <td>...</td>\n",
       "      <td>...</td>\n",
       "      <td>...</td>\n",
       "      <td>...</td>\n",
       "      <td>...</td>\n",
       "      <td>...</td>\n",
       "      <td>...</td>\n",
       "      <td>...</td>\n",
       "      <td>...</td>\n",
       "    </tr>\n",
       "    <tr>\n",
       "      <th>95</th>\n",
       "      <td>More Giraffes</td>\n",
       "      <td>Dinosaur (OTR Remix)</td>\n",
       "      <td>Dinosaur - OTR Remix</td>\n",
       "      <td>6PsPrBPvWqyhRCFVIxfCkg</td>\n",
       "      <td>0.526</td>\n",
       "      <td>0.553</td>\n",
       "      <td>9</td>\n",
       "      <td>-6.389</td>\n",
       "      <td>1</td>\n",
       "      <td>0.1070</td>\n",
       "      <td>0.20100</td>\n",
       "      <td>0.066100</td>\n",
       "      <td>0.1080</td>\n",
       "      <td>0.2090</td>\n",
       "      <td>78.901</td>\n",
       "      <td>183797</td>\n",
       "      <td>4</td>\n",
       "    </tr>\n",
       "    <tr>\n",
       "      <th>96</th>\n",
       "      <td>Paul Desmond</td>\n",
       "      <td>Greatest Hits Series--Paul Desmond</td>\n",
       "      <td>A Taste of Honey - Live</td>\n",
       "      <td>6PdC87pNlAOBZFRVhk2c3Q</td>\n",
       "      <td>0.492</td>\n",
       "      <td>0.151</td>\n",
       "      <td>5</td>\n",
       "      <td>-18.015</td>\n",
       "      <td>0</td>\n",
       "      <td>0.0421</td>\n",
       "      <td>0.91800</td>\n",
       "      <td>0.003530</td>\n",
       "      <td>0.1100</td>\n",
       "      <td>0.2150</td>\n",
       "      <td>124.925</td>\n",
       "      <td>271000</td>\n",
       "      <td>3</td>\n",
       "    </tr>\n",
       "    <tr>\n",
       "      <th>97</th>\n",
       "      <td>Shirley Bassey</td>\n",
       "      <td>And I Love You So</td>\n",
       "      <td>Jezahel - 2000 Remaster</td>\n",
       "      <td>2w4vN7AiWqmwDl5Mk1La61</td>\n",
       "      <td>0.555</td>\n",
       "      <td>0.569</td>\n",
       "      <td>1</td>\n",
       "      <td>-7.739</td>\n",
       "      <td>0</td>\n",
       "      <td>0.0361</td>\n",
       "      <td>0.38400</td>\n",
       "      <td>0.027800</td>\n",
       "      <td>0.7190</td>\n",
       "      <td>0.7440</td>\n",
       "      <td>109.027</td>\n",
       "      <td>170427</td>\n",
       "      <td>4</td>\n",
       "    </tr>\n",
       "    <tr>\n",
       "      <th>98</th>\n",
       "      <td>Julie London</td>\n",
       "      <td>Yummy, Yummy, Yummy</td>\n",
       "      <td>Light My Fire</td>\n",
       "      <td>0YfMaGevOvsYZ3rihLvJzr</td>\n",
       "      <td>0.363</td>\n",
       "      <td>0.404</td>\n",
       "      <td>10</td>\n",
       "      <td>-11.579</td>\n",
       "      <td>1</td>\n",
       "      <td>0.0311</td>\n",
       "      <td>0.61800</td>\n",
       "      <td>0.010500</td>\n",
       "      <td>0.3210</td>\n",
       "      <td>0.3610</td>\n",
       "      <td>165.843</td>\n",
       "      <td>202413</td>\n",
       "      <td>4</td>\n",
       "    </tr>\n",
       "    <tr>\n",
       "      <th>99</th>\n",
       "      <td>Sabai</td>\n",
       "      <td>Million Days</td>\n",
       "      <td>Million Days</td>\n",
       "      <td>0DzPnTBSmVRKBQAmH3EomR</td>\n",
       "      <td>0.514</td>\n",
       "      <td>0.648</td>\n",
       "      <td>0</td>\n",
       "      <td>-5.456</td>\n",
       "      <td>1</td>\n",
       "      <td>0.0482</td>\n",
       "      <td>0.27000</td>\n",
       "      <td>0.000000</td>\n",
       "      <td>0.1400</td>\n",
       "      <td>0.0816</td>\n",
       "      <td>144.942</td>\n",
       "      <td>208552</td>\n",
       "      <td>4</td>\n",
       "    </tr>\n",
       "  </tbody>\n",
       "</table>\n",
       "<p>100 rows × 17 columns</p>\n",
       "</div>"
      ],
      "text/plain": [
       "                artist                               album  \\\n",
       "0         Tash Sultana                         Terra Firma   \n",
       "1            Besomorph                              Wilted   \n",
       "2         Fall Out Boy                        Folie à Deux   \n",
       "3   Charlie Cunningham                       Permanent Way   \n",
       "4            Oh Wonder                          Home Tapes   \n",
       "..                 ...                                 ...   \n",
       "95       More Giraffes                Dinosaur (OTR Remix)   \n",
       "96        Paul Desmond  Greatest Hits Series--Paul Desmond   \n",
       "97      Shirley Bassey                   And I Love You So   \n",
       "98        Julie London                 Yummy, Yummy, Yummy   \n",
       "99               Sabai                        Million Days   \n",
       "\n",
       "                       track_name                track_id  danceability  \\\n",
       "0                            Coma  1UTLAJpm7M7JiAT23qTy08         0.236   \n",
       "1                          Wilted  2C1Zh4eh7M07Hlx97zYVgF         0.507   \n",
       "2   I Don't Care - Single Version  7ewT0nLFkMD8ONbRibePr9         0.550   \n",
       "3                   Permanent Way  4ewgXAEfRGjay6kmYSfbfW         0.561   \n",
       "4      I Like It When You Love Me  6UiS2IW9dEZwC6TluY5zSy         0.481   \n",
       "..                            ...                     ...           ...   \n",
       "95           Dinosaur - OTR Remix  6PsPrBPvWqyhRCFVIxfCkg         0.526   \n",
       "96        A Taste of Honey - Live  6PdC87pNlAOBZFRVhk2c3Q         0.492   \n",
       "97        Jezahel - 2000 Remaster  2w4vN7AiWqmwDl5Mk1La61         0.555   \n",
       "98                  Light My Fire  0YfMaGevOvsYZ3rihLvJzr         0.363   \n",
       "99                   Million Days  0DzPnTBSmVRKBQAmH3EomR         0.514   \n",
       "\n",
       "    energy key  loudness mode  speechiness  acousticness  instrumentalness  \\\n",
       "0    0.525   1    -8.233    0       0.0356       0.51000          0.541000   \n",
       "1    0.695   6    -8.441    0       0.0508       0.02130          0.001390   \n",
       "2    0.938  11    -3.556    0       0.0522       0.00171          0.000022   \n",
       "3    0.550   8   -17.419    1       0.0370       0.77000          0.476000   \n",
       "4    0.432   5   -11.982    0       0.3830       0.82400          0.000347   \n",
       "..     ...  ..       ...  ...          ...           ...               ...   \n",
       "95   0.553   9    -6.389    1       0.1070       0.20100          0.066100   \n",
       "96   0.151   5   -18.015    0       0.0421       0.91800          0.003530   \n",
       "97   0.569   1    -7.739    0       0.0361       0.38400          0.027800   \n",
       "98   0.404  10   -11.579    1       0.0311       0.61800          0.010500   \n",
       "99   0.648   0    -5.456    1       0.0482       0.27000          0.000000   \n",
       "\n",
       "    liveness  valence    tempo duration_ms time_signature  \n",
       "0     0.1370   0.0773  135.839      332488              4  \n",
       "1     0.0892   0.5440   95.012      188211              4  \n",
       "2     0.5550   0.4330  133.990      214493              4  \n",
       "3     0.0921   0.4460  147.010      252080              4  \n",
       "4     0.1050   0.1940   83.595      226560              4  \n",
       "..       ...      ...      ...         ...            ...  \n",
       "95    0.1080   0.2090   78.901      183797              4  \n",
       "96    0.1100   0.2150  124.925      271000              3  \n",
       "97    0.7190   0.7440  109.027      170427              4  \n",
       "98    0.3210   0.3610  165.843      202413              4  \n",
       "99    0.1400   0.0816  144.942      208552              4  \n",
       "\n",
       "[100 rows x 17 columns]"
      ]
     },
     "execution_count": 10,
     "metadata": {},
     "output_type": "execute_result"
    }
   ],
   "source": [
    "#Create Initial Playlist DataFrame\n",
    "playlist_dataframe('12184874172', '3pzMSqFa0xKyTg0bPizs3K')"
   ]
  },
  {
   "cell_type": "code",
   "execution_count": 11,
   "metadata": {},
   "outputs": [],
   "source": [
    "#Create Dictionary of Playlists, to be concatednated later\n",
    "playlist_dict = {\n",
    "    \"Library 854\" : (\"Brett Hunt\", \"3pzMSqFa0xKyTg0bPizs3K\"), \n",
    "    \"Geek Music\" : (\"Clement Patin\", \"7duhD5vDd0IOBoRck8godM\"),\n",
    "    \"Girly Pop Hype\" : (\"Danielle Nicole Johnson\", \"7ht7e7WWZzkA9QkqXjQDXn\"),\n",
    "    \"Fortnite Radio Tracks\" : ('GabrielNRG', '057sHAhfWopSFSA75BAk24'),\n",
    "    \"The 50s and 60s, Golden Oldies\" : ('John Peter Furst', '5tz0Cp0HWIMCiEGoswjMP8'),\n",
    "    \"All out 70s\" : ('Spotify', '37i9dQZF1DWTJ7xPn4vNaz'),\n",
    "    \"80s Hits\" : ('spotify', '37i9dQZF1DXb57FjYWz00c'),\n",
    "    \"All out 90s\" : ('spotify', '37i9dQZF1DXbTxeAdrVG2l'),\n",
    "}"
   ]
  },
  {
   "cell_type": "code",
   "execution_count": 12,
   "metadata": {},
   "outputs": [],
   "source": [
    "def playlist_dataframe_concat(playlist_dict):\n",
    "    # Loop through every playlist in the dict and create a DataFrame for it, using the Keys and Values of the Dictionary - without key/val enumerate will provide the wrong outputs\n",
    "    for i, (key, val) in enumerate(playlist_dict.items()):\n",
    "        \n",
    "        playlist_df = playlist_dataframe(*val)\n",
    "        \n",
    "        # Add a playlist column so that we can see which playlist a track belongs too\n",
    "        playlist_df[\"playlist\"] = key\n",
    "        \n",
    "        # Create or concatenate dataframes\n",
    "        if i == 0:\n",
    "            playlist_dict_df = playlist_df\n",
    "        else:\n",
    "            playlist_dict_df = pd.concat([playlist_dict_df, playlist_df], ignore_index = True)\n",
    "            \n",
    "    return playlist_dict_df"
   ]
  },
  {
   "cell_type": "code",
   "execution_count": 13,
   "metadata": {},
   "outputs": [
    {
     "data": {
      "text/plain": [
       "The 50s and 60s, Golden Oldies    100\n",
       "80s Hits                          100\n",
       "Library 854                       100\n",
       "Girly Pop Hype                    100\n",
       "All out 90s                       100\n",
       "All out 70s                       100\n",
       "Geek Music                         88\n",
       "Fortnite Radio Tracks              68\n",
       "Name: playlist, dtype: int64"
      ]
     },
     "execution_count": 13,
     "metadata": {},
     "output_type": "execute_result"
    }
   ],
   "source": [
    "music = playlist_dataframe_concat(playlist_dict)\n",
    "music[\"playlist\"].value_counts()"
   ]
  },
  {
   "cell_type": "code",
   "execution_count": 14,
   "metadata": {},
   "outputs": [
    {
     "data": {
      "text/plain": [
       "(756, 18)"
      ]
     },
     "execution_count": 14,
     "metadata": {},
     "output_type": "execute_result"
    }
   ],
   "source": [
    "music.shape"
   ]
  },
  {
   "cell_type": "code",
   "execution_count": 15,
   "metadata": {},
   "outputs": [
    {
     "data": {
      "text/html": [
       "<div>\n",
       "<style scoped>\n",
       "    .dataframe tbody tr th:only-of-type {\n",
       "        vertical-align: middle;\n",
       "    }\n",
       "\n",
       "    .dataframe tbody tr th {\n",
       "        vertical-align: top;\n",
       "    }\n",
       "\n",
       "    .dataframe thead th {\n",
       "        text-align: right;\n",
       "    }\n",
       "</style>\n",
       "<table border=\"1\" class=\"dataframe\">\n",
       "  <thead>\n",
       "    <tr style=\"text-align: right;\">\n",
       "      <th></th>\n",
       "      <th>artist</th>\n",
       "      <th>album</th>\n",
       "      <th>track_name</th>\n",
       "      <th>track_id</th>\n",
       "      <th>danceability</th>\n",
       "      <th>energy</th>\n",
       "      <th>key</th>\n",
       "      <th>loudness</th>\n",
       "      <th>mode</th>\n",
       "      <th>speechiness</th>\n",
       "      <th>acousticness</th>\n",
       "      <th>instrumentalness</th>\n",
       "      <th>liveness</th>\n",
       "      <th>valence</th>\n",
       "      <th>tempo</th>\n",
       "      <th>duration_ms</th>\n",
       "      <th>time_signature</th>\n",
       "      <th>playlist</th>\n",
       "    </tr>\n",
       "  </thead>\n",
       "  <tbody>\n",
       "    <tr>\n",
       "      <th>0</th>\n",
       "      <td>Tash Sultana</td>\n",
       "      <td>Terra Firma</td>\n",
       "      <td>Coma</td>\n",
       "      <td>1UTLAJpm7M7JiAT23qTy08</td>\n",
       "      <td>0.236</td>\n",
       "      <td>0.525</td>\n",
       "      <td>1</td>\n",
       "      <td>-8.233</td>\n",
       "      <td>0</td>\n",
       "      <td>0.0356</td>\n",
       "      <td>0.51000</td>\n",
       "      <td>0.541</td>\n",
       "      <td>0.1370</td>\n",
       "      <td>0.0773</td>\n",
       "      <td>135.839</td>\n",
       "      <td>332488</td>\n",
       "      <td>4</td>\n",
       "      <td>Library 854</td>\n",
       "    </tr>\n",
       "    <tr>\n",
       "      <th>1</th>\n",
       "      <td>Besomorph</td>\n",
       "      <td>Wilted</td>\n",
       "      <td>Wilted</td>\n",
       "      <td>2C1Zh4eh7M07Hlx97zYVgF</td>\n",
       "      <td>0.507</td>\n",
       "      <td>0.695</td>\n",
       "      <td>6</td>\n",
       "      <td>-8.441</td>\n",
       "      <td>0</td>\n",
       "      <td>0.0508</td>\n",
       "      <td>0.02130</td>\n",
       "      <td>0.00139</td>\n",
       "      <td>0.0892</td>\n",
       "      <td>0.5440</td>\n",
       "      <td>95.012</td>\n",
       "      <td>188211</td>\n",
       "      <td>4</td>\n",
       "      <td>Library 854</td>\n",
       "    </tr>\n",
       "    <tr>\n",
       "      <th>2</th>\n",
       "      <td>Fall Out Boy</td>\n",
       "      <td>Folie à Deux</td>\n",
       "      <td>I Don't Care - Single Version</td>\n",
       "      <td>7ewT0nLFkMD8ONbRibePr9</td>\n",
       "      <td>0.550</td>\n",
       "      <td>0.938</td>\n",
       "      <td>11</td>\n",
       "      <td>-3.556</td>\n",
       "      <td>0</td>\n",
       "      <td>0.0522</td>\n",
       "      <td>0.00171</td>\n",
       "      <td>2.18e-05</td>\n",
       "      <td>0.5550</td>\n",
       "      <td>0.4330</td>\n",
       "      <td>133.990</td>\n",
       "      <td>214493</td>\n",
       "      <td>4</td>\n",
       "      <td>Library 854</td>\n",
       "    </tr>\n",
       "    <tr>\n",
       "      <th>3</th>\n",
       "      <td>Charlie Cunningham</td>\n",
       "      <td>Permanent Way</td>\n",
       "      <td>Permanent Way</td>\n",
       "      <td>4ewgXAEfRGjay6kmYSfbfW</td>\n",
       "      <td>0.561</td>\n",
       "      <td>0.550</td>\n",
       "      <td>8</td>\n",
       "      <td>-17.419</td>\n",
       "      <td>1</td>\n",
       "      <td>0.0370</td>\n",
       "      <td>0.77000</td>\n",
       "      <td>0.476</td>\n",
       "      <td>0.0921</td>\n",
       "      <td>0.4460</td>\n",
       "      <td>147.010</td>\n",
       "      <td>252080</td>\n",
       "      <td>4</td>\n",
       "      <td>Library 854</td>\n",
       "    </tr>\n",
       "    <tr>\n",
       "      <th>4</th>\n",
       "      <td>Oh Wonder</td>\n",
       "      <td>Home Tapes</td>\n",
       "      <td>I Like It When You Love Me</td>\n",
       "      <td>6UiS2IW9dEZwC6TluY5zSy</td>\n",
       "      <td>0.481</td>\n",
       "      <td>0.432</td>\n",
       "      <td>5</td>\n",
       "      <td>-11.982</td>\n",
       "      <td>0</td>\n",
       "      <td>0.3830</td>\n",
       "      <td>0.82400</td>\n",
       "      <td>0.000347</td>\n",
       "      <td>0.1050</td>\n",
       "      <td>0.1940</td>\n",
       "      <td>83.595</td>\n",
       "      <td>226560</td>\n",
       "      <td>4</td>\n",
       "      <td>Library 854</td>\n",
       "    </tr>\n",
       "  </tbody>\n",
       "</table>\n",
       "</div>"
      ],
      "text/plain": [
       "               artist          album                     track_name  \\\n",
       "0        Tash Sultana    Terra Firma                           Coma   \n",
       "1           Besomorph         Wilted                         Wilted   \n",
       "2        Fall Out Boy   Folie à Deux  I Don't Care - Single Version   \n",
       "3  Charlie Cunningham  Permanent Way                  Permanent Way   \n",
       "4           Oh Wonder     Home Tapes     I Like It When You Love Me   \n",
       "\n",
       "                 track_id  danceability  energy key  loudness mode  \\\n",
       "0  1UTLAJpm7M7JiAT23qTy08         0.236   0.525   1    -8.233    0   \n",
       "1  2C1Zh4eh7M07Hlx97zYVgF         0.507   0.695   6    -8.441    0   \n",
       "2  7ewT0nLFkMD8ONbRibePr9         0.550   0.938  11    -3.556    0   \n",
       "3  4ewgXAEfRGjay6kmYSfbfW         0.561   0.550   8   -17.419    1   \n",
       "4  6UiS2IW9dEZwC6TluY5zSy         0.481   0.432   5   -11.982    0   \n",
       "\n",
       "   speechiness  acousticness instrumentalness  liveness  valence    tempo  \\\n",
       "0       0.0356       0.51000            0.541    0.1370   0.0773  135.839   \n",
       "1       0.0508       0.02130          0.00139    0.0892   0.5440   95.012   \n",
       "2       0.0522       0.00171         2.18e-05    0.5550   0.4330  133.990   \n",
       "3       0.0370       0.77000            0.476    0.0921   0.4460  147.010   \n",
       "4       0.3830       0.82400         0.000347    0.1050   0.1940   83.595   \n",
       "\n",
       "  duration_ms time_signature     playlist  \n",
       "0      332488              4  Library 854  \n",
       "1      188211              4  Library 854  \n",
       "2      214493              4  Library 854  \n",
       "3      252080              4  Library 854  \n",
       "4      226560              4  Library 854  "
      ]
     },
     "execution_count": 15,
     "metadata": {},
     "output_type": "execute_result"
    }
   ],
   "source": [
    "music.head()"
   ]
  },
  {
   "cell_type": "code",
   "execution_count": 54,
   "metadata": {},
   "outputs": [],
   "source": [
    "music_prep = music.drop(['artist','album', 'track_name', 'track_id', 'playlist'], axis=1)"
   ]
  },
  {
   "cell_type": "code",
   "execution_count": 130,
   "metadata": {},
   "outputs": [
    {
     "data": {
      "image/png": "[encoded data removed]",
      "text/plain": [
       "<Figure size 576x396 with 1 Axes>"
      ]
     },
     "metadata": {},
     "output_type": "display_data"
    },
    {
     "data": {
      "image/png": "[encoded data removed]",
      "text/plain": [
       "<Figure size 576x396 with 1 Axes>"
      ]
     },
     "metadata": {},
     "output_type": "display_data"
    },
    {
     "data": {
      "image/png": "[encoded data removed]",
      "text/plain": [
       "<Figure size 576x396 with 1 Axes>"
      ]
     },
     "metadata": {},
     "output_type": "display_data"
    },
    {
     "data": {
      "image/png": "[encoded data removed]",
      "text/plain": [
       "<Figure size 576x396 with 1 Axes>"
      ]
     },
     "metadata": {},
     "output_type": "display_data"
    },
    {
     "data": {
      "image/png": "[encoded data removed]",
      "text/plain": [
       "<Figure size 576x396 with 1 Axes>"
      ]
     },
     "metadata": {},
     "output_type": "display_data"
    },
    {
     "data": {
      "image/png": "[encoded data removed]",
      "text/plain": [
       "<Figure size 576x396 with 1 Axes>"
      ]
     },
     "metadata": {},
     "output_type": "display_data"
    },
    {
     "data": {
      "image/png": "[encoded data removed]",
      "text/plain": [
       "<Figure size 576x396 with 1 Axes>"
      ]
     },
     "metadata": {},
     "output_type": "display_data"
    },
    {
     "data": {
      "image/png": "[encoded data removed]",
      "text/plain": [
       "<Figure size 576x396 with 1 Axes>"
      ]
     },
     "metadata": {},
     "output_type": "display_data"
    },
    {
     "data": {
      "image/png": "[encoded data removed]",
      "text/plain": [
       "<Figure size 576x396 with 1 Axes>"
      ]
     },
     "metadata": {},
     "output_type": "display_data"
    },
    {
     "data": {
      "image/png": "[encoded data removed]",
      "text/plain": [
       "<Figure size 576x396 with 1 Axes>"
      ]
     },
     "metadata": {},
     "output_type": "display_data"
    },
    {
     "data": {
      "image/png": "[encoded data removed]",
      "text/plain": [
       "<Figure size 576x396 with 1 Axes>"
      ]
     },
     "metadata": {},
     "output_type": "display_data"
    },
    {
     "data": {
      "image/png": "[encoded data removed]",
      "text/plain": [
       "<Figure size 576x396 with 1 Axes>"
      ]
     },
     "metadata": {},
     "output_type": "display_data"
    },
    {
     "data": {
      "image/png": "[encoded data removed]",
      "text/plain": [
       "<Figure size 576x396 with 1 Axes>"
      ]
     },
     "metadata": {},
     "output_type": "display_data"
    }
   ],
   "source": [
    "import seaborn as sns\n",
    "for feature in music_prep.columns:\n",
    "    sns.histplot(music[feature])\n",
    "    plt.show()"
   ]
  },
  {
   "cell_type": "markdown",
   "metadata": {},
   "source": [
    "# K Means"
   ]
  },
  {
   "cell_type": "code",
   "execution_count": null,
   "metadata": {},
   "outputs": [],
   "source": [
    "from sklearn.preprocessing import StandardScaler"
   ]
  },
  {
   "cell_type": "code",
   "execution_count": 153,
   "metadata": {},
   "outputs": [
    {
     "name": "stdout",
     "output_type": "stream",
     "text": [
      "(756, 13)\n"
     ]
    },
    {
     "data": {
      "text/plain": [
       "array([[-2.14265384e+00, -5.03296384e-01, -1.20575621e+00, ...,\n",
       "         5.55596295e-01,  1.82129180e+00,  2.10285039e-01],\n",
       "       [-5.35446944e-01,  3.32628946e-01,  2.03569230e-01, ...,\n",
       "        -8.44128099e-01, -4.04596787e-01,  2.10285039e-01],\n",
       "       [-2.80428876e-01,  1.52751045e+00,  1.61289467e+00, ...,\n",
       "         4.92204657e-01,  8.78817892e-04,  2.10285039e-01],\n",
       "       ...,\n",
       "       [-1.27084788e+00,  1.70361088e-01, -9.23891123e-01, ...,\n",
       "         5.21316094e-02,  1.30094018e+00,  2.10285039e-01],\n",
       "       [ 1.82162039e-01,  1.60126856e+00,  1.33102958e+00, ...,\n",
       "        -2.91396899e-01,  2.15002397e-01,  2.10285039e-01],\n",
       "       [ 1.32084737e+00,  1.52259324e+00, -7.82958578e-02, ...,\n",
       "         3.89900359e-01,  3.67044178e-01,  2.10285039e-01]])"
      ]
     },
     "execution_count": 153,
     "metadata": {},
     "output_type": "execute_result"
    }
   ],
   "source": [
    "X_num = music_prep\n",
    "transformer = StandardScaler().fit(X_num)\n",
    "x_standardized = transformer.transform(X_num)\n",
    "print(x_standardized.shape)"
   ]
  },
  {
   "cell_type": "markdown",
   "metadata": {},
   "source": [
    "## Inertia"
   ]
  },
  {
   "cell_type": "code",
   "execution_count": 57,
   "metadata": {},
   "outputs": [
    {
     "data": {
      "text/plain": [
       "Text(0.5, 1.0, 'Elbow Method showing the optimal k within [2, 3, 4, 5, 6, 7, 8, 9, 10, 11, 12, 13, 14, 15, 16, 17, 18, 19]')"
      ]
     },
     "execution_count": 57,
     "metadata": {},
     "output_type": "execute_result"
    },
    {
     "data": {
      "image/png": "[encoded data removed]",
      "text/plain": [
       "<Figure size 1152x576 with 1 Axes>"
      ]
     },
     "metadata": {},
     "output_type": "display_data"
    }
   ],
   "source": [
    "import matplotlib.pyplot as plt\n",
    "import numpy as np\n",
    "from sklearn.cluster import KMeans\n",
    "K = range(2,20)\n",
    "inertias = []\n",
    "\n",
    "for k in K:\n",
    "    kmeans = KMeans(n_clusters=k,\n",
    "                random_state=1234,\n",
    "                n_init=20,\n",
    "                algorithm='elkan',\n",
    "                max_iter=25)\n",
    "    kmeans.fit(x_standardized)\n",
    "    inertias.append(kmeans.inertia_)\n",
    "    \n",
    "plt.figure(figsize=(16,8))\n",
    "plt.plot(K, inertias, 'bx-')\n",
    "plt.xlabel('k')\n",
    "plt.ylabel('inertia')\n",
    "plt.xticks(np.arange(min(K), max(K)+1, 1.0))\n",
    "plt.title(f'Elbow Method showing the optimal k within {list(K)}')"
   ]
  },
  {
   "cell_type": "markdown",
   "metadata": {},
   "source": [
    "## Silhouette"
   ]
  },
  {
   "cell_type": "code",
   "execution_count": 155,
   "metadata": {},
   "outputs": [
    {
     "data": {
      "text/plain": [
       "Text(0.5, 1.0, 'Elbow Method showing the optimal k within [2, 3, 4, 5, 6, 7, 8, 9, 10, 11, 12, 13, 14, 15, 16, 17, 18, 19]')"
      ]
     },
     "execution_count": 155,
     "metadata": {},
     "output_type": "execute_result"
    },
    {
     "data": {
      "image/png": "[encoded data removed]",
      "text/plain": [
       "<Figure size 1152x576 with 1 Axes>"
      ]
     },
     "metadata": {},
     "output_type": "display_data"
    }
   ],
   "source": [
    "from sklearn.metrics import silhouette_score\n",
    "from yellowbrick.cluster import SilhouetteVisualizer\n",
    "K = range(2,20)\n",
    "silhouettes = []\n",
    "\n",
    "for k in K:\n",
    "    kmeans = KMeans(n_clusters=k,\n",
    "                random_state=1234,\n",
    "                n_init=10,\n",
    "                algorithm='elkan',\n",
    "                max_iter=10)\n",
    "    kmeans.fit(x_standardized)\n",
    "    silhouettes.append(silhouette_score(x_standardized, kmeans.predict(x_standardized)))\n",
    "\n",
    "plt.figure(figsize=(16,8))\n",
    "plt.plot(K, silhouettes, 'bx-')\n",
    "plt.xlabel('k')\n",
    "plt.ylabel('silhouette score')\n",
    "plt.xticks(np.arange(min(K), max(K)+1, 1.0))\n",
    "plt.title(f'Elbow Method showing the optimal k within {list(K)}')"
   ]
  },
  {
   "cell_type": "markdown",
   "metadata": {},
   "source": [
    "## Outcome\n",
    "\n",
    "Due to the spike at k = 4 and the higher inertia, I'll be selecting 4 clusters here"
   ]
  },
  {
   "cell_type": "code",
   "execution_count": 156,
   "metadata": {},
   "outputs": [
    {
     "name": "stdout",
     "output_type": "stream",
     "text": [
      "[[ 0.36823988  0.52339262 -0.13948121  0.4393942   0.01029646 -0.16831657\n",
      "  -0.43181226 -0.39967296  0.01163646  0.43518351  0.11006101  0.0517135\n",
      "   0.19378525]\n",
      " [-1.01944702 -0.36040476  0.00323537 -0.64021699 -0.35468769 -0.30399488\n",
      "   0.13112807  2.08857842 -0.02216448 -1.00052601 -0.15264699 -0.40609673\n",
      "  -0.32084461]\n",
      " [ 0.48316868  0.14396345  0.14422921  0.40192502 -0.45785706  3.02122248\n",
      "  -0.04016733 -0.46793218  0.20835497 -0.1289716   0.37683263 -0.17026782\n",
      "   0.15094368]\n",
      " [-0.32836832 -1.06659474  0.28913542 -0.74758985  0.38567569 -0.39533636\n",
      "   0.9730123  -0.3701187  -0.08312667 -0.29767983 -0.28651302  0.22405021\n",
      "  -0.29305681]]\n"
     ]
    }
   ],
   "source": [
    "kmeans = KMeans(n_clusters=4,\n",
    "                random_state=1234,\n",
    "                n_init=10,\n",
    "                algorithm='elkan',\n",
    "                max_iter=25,\n",
    "                   )\n",
    "kmeans.fit(x_standardized)\n",
    "\n",
    "# print the cluster centers\n",
    "clusters_coordinates = kmeans.cluster_centers_\n",
    "\n",
    "print(clusters_coordinates)"
   ]
  },
  {
   "cell_type": "code",
   "execution_count": 157,
   "metadata": {},
   "outputs": [
    {
     "data": {
      "text/plain": [
       "0    409\n",
       "1    122\n",
       "2     57\n",
       "3    168\n",
       "dtype: int64"
      ]
     },
     "execution_count": 157,
     "metadata": {},
     "output_type": "execute_result"
    }
   ],
   "source": [
    "# Predicting Clusters\n",
    "clusters_predictions = kmeans.predict(x_standardized)\n",
    "pd.Series(clusters_predictions).value_counts().sort_index()"
   ]
  },
  {
   "cell_type": "code",
   "execution_count": 158,
   "metadata": {},
   "outputs": [
    {
     "data": {
      "text/plain": [
       "756"
      ]
     },
     "execution_count": 158,
     "metadata": {},
     "output_type": "execute_result"
    }
   ],
   "source": [
    "#Checking Number of Predictions to ensure it matches 756\n",
    "len(clusters_predictions)"
   ]
  },
  {
   "cell_type": "markdown",
   "metadata": {},
   "source": [
    "## Appending Clusters"
   ]
  },
  {
   "cell_type": "code",
   "execution_count": 159,
   "metadata": {},
   "outputs": [],
   "source": [
    "#Creating the New Clustered DataFrame\n",
    "music_prepped = pd.DataFrame(x_standardized, columns=music_prep.columns)\n",
    "music_prepped['Cluster'] = clusters_predictions"
   ]
  },
  {
   "cell_type": "code",
   "execution_count": 160,
   "metadata": {},
   "outputs": [
    {
     "data": {
      "text/html": [
       "<div>\n",
       "<style scoped>\n",
       "    .dataframe tbody tr th:only-of-type {\n",
       "        vertical-align: middle;\n",
       "    }\n",
       "\n",
       "    .dataframe tbody tr th {\n",
       "        vertical-align: top;\n",
       "    }\n",
       "\n",
       "    .dataframe thead th {\n",
       "        text-align: right;\n",
       "    }\n",
       "</style>\n",
       "<table border=\"1\" class=\"dataframe\">\n",
       "  <thead>\n",
       "    <tr style=\"text-align: right;\">\n",
       "      <th></th>\n",
       "      <th>danceability</th>\n",
       "      <th>energy</th>\n",
       "      <th>key</th>\n",
       "      <th>loudness</th>\n",
       "      <th>mode</th>\n",
       "      <th>speechiness</th>\n",
       "      <th>acousticness</th>\n",
       "      <th>instrumentalness</th>\n",
       "      <th>liveness</th>\n",
       "      <th>valence</th>\n",
       "      <th>tempo</th>\n",
       "      <th>duration_ms</th>\n",
       "      <th>time_signature</th>\n",
       "      <th>Cluster</th>\n",
       "    </tr>\n",
       "  </thead>\n",
       "  <tbody>\n",
       "    <tr>\n",
       "      <th>0</th>\n",
       "      <td>-2.142654</td>\n",
       "      <td>-0.503296</td>\n",
       "      <td>-1.205756</td>\n",
       "      <td>0.022967</td>\n",
       "      <td>-1.381192</td>\n",
       "      <td>-0.488450</td>\n",
       "      <td>0.798735</td>\n",
       "      <td>1.270926</td>\n",
       "      <td>-0.321327</td>\n",
       "      <td>-1.776978</td>\n",
       "      <td>0.555596</td>\n",
       "      <td>1.821292</td>\n",
       "      <td>0.210285</td>\n",
       "      <td>1</td>\n",
       "    </tr>\n",
       "    <tr>\n",
       "      <th>1</th>\n",
       "      <td>-0.535447</td>\n",
       "      <td>0.332629</td>\n",
       "      <td>0.203569</td>\n",
       "      <td>-0.034570</td>\n",
       "      <td>-1.381192</td>\n",
       "      <td>-0.259799</td>\n",
       "      <td>-0.939845</td>\n",
       "      <td>-0.486150</td>\n",
       "      <td>-0.650775</td>\n",
       "      <td>-0.060532</td>\n",
       "      <td>-0.844128</td>\n",
       "      <td>-0.404597</td>\n",
       "      <td>0.210285</td>\n",
       "      <td>0</td>\n",
       "    </tr>\n",
       "    <tr>\n",
       "      <th>2</th>\n",
       "      <td>-0.280429</td>\n",
       "      <td>1.527510</td>\n",
       "      <td>1.612895</td>\n",
       "      <td>1.316729</td>\n",
       "      <td>-1.381192</td>\n",
       "      <td>-0.238739</td>\n",
       "      <td>-1.009538</td>\n",
       "      <td>-0.490605</td>\n",
       "      <td>2.559622</td>\n",
       "      <td>-0.468772</td>\n",
       "      <td>0.492205</td>\n",
       "      <td>0.000879</td>\n",
       "      <td>0.210285</td>\n",
       "      <td>0</td>\n",
       "    </tr>\n",
       "    <tr>\n",
       "      <th>3</th>\n",
       "      <td>-0.215192</td>\n",
       "      <td>-0.380366</td>\n",
       "      <td>0.767299</td>\n",
       "      <td>-2.518083</td>\n",
       "      <td>0.724012</td>\n",
       "      <td>-0.467390</td>\n",
       "      <td>1.723701</td>\n",
       "      <td>1.059273</td>\n",
       "      <td>-0.630788</td>\n",
       "      <td>-0.420960</td>\n",
       "      <td>0.938586</td>\n",
       "      <td>0.580767</td>\n",
       "      <td>0.210285</td>\n",
       "      <td>3</td>\n",
       "    </tr>\n",
       "    <tr>\n",
       "      <th>4</th>\n",
       "      <td>-0.689644</td>\n",
       "      <td>-0.960597</td>\n",
       "      <td>-0.078296</td>\n",
       "      <td>-1.014089</td>\n",
       "      <td>-1.381192</td>\n",
       "      <td>4.737422</td>\n",
       "      <td>1.915809</td>\n",
       "      <td>-0.489546</td>\n",
       "      <td>-0.541878</td>\n",
       "      <td>-1.347775</td>\n",
       "      <td>-1.235552</td>\n",
       "      <td>0.187047</td>\n",
       "      <td>0.210285</td>\n",
       "      <td>2</td>\n",
       "    </tr>\n",
       "  </tbody>\n",
       "</table>\n",
       "</div>"
      ],
      "text/plain": [
       "   danceability    energy       key  loudness      mode  speechiness  \\\n",
       "0     -2.142654 -0.503296 -1.205756  0.022967 -1.381192    -0.488450   \n",
       "1     -0.535447  0.332629  0.203569 -0.034570 -1.381192    -0.259799   \n",
       "2     -0.280429  1.527510  1.612895  1.316729 -1.381192    -0.238739   \n",
       "3     -0.215192 -0.380366  0.767299 -2.518083  0.724012    -0.467390   \n",
       "4     -0.689644 -0.960597 -0.078296 -1.014089 -1.381192     4.737422   \n",
       "\n",
       "   acousticness  instrumentalness  liveness   valence     tempo  duration_ms  \\\n",
       "0      0.798735          1.270926 -0.321327 -1.776978  0.555596     1.821292   \n",
       "1     -0.939845         -0.486150 -0.650775 -0.060532 -0.844128    -0.404597   \n",
       "2     -1.009538         -0.490605  2.559622 -0.468772  0.492205     0.000879   \n",
       "3      1.723701          1.059273 -0.630788 -0.420960  0.938586     0.580767   \n",
       "4      1.915809         -0.489546 -0.541878 -1.347775 -1.235552     0.187047   \n",
       "\n",
       "   time_signature  Cluster  \n",
       "0        0.210285        1  \n",
       "1        0.210285        0  \n",
       "2        0.210285        0  \n",
       "3        0.210285        3  \n",
       "4        0.210285        2  "
      ]
     },
     "execution_count": 160,
     "metadata": {},
     "output_type": "execute_result"
    }
   ],
   "source": [
    "music_prepped.head()"
   ]
  },
  {
   "cell_type": "code",
   "execution_count": 161,
   "metadata": {},
   "outputs": [
    {
     "data": {
      "text/html": [
       "<div>\n",
       "<style scoped>\n",
       "    .dataframe tbody tr th:only-of-type {\n",
       "        vertical-align: middle;\n",
       "    }\n",
       "\n",
       "    .dataframe tbody tr th {\n",
       "        vertical-align: top;\n",
       "    }\n",
       "\n",
       "    .dataframe thead th {\n",
       "        text-align: right;\n",
       "    }\n",
       "</style>\n",
       "<table border=\"1\" class=\"dataframe\">\n",
       "  <thead>\n",
       "    <tr style=\"text-align: right;\">\n",
       "      <th></th>\n",
       "      <th>artist</th>\n",
       "      <th>album</th>\n",
       "      <th>track_name</th>\n",
       "      <th>track_id</th>\n",
       "      <th>danceability</th>\n",
       "      <th>energy</th>\n",
       "      <th>key</th>\n",
       "      <th>loudness</th>\n",
       "      <th>mode</th>\n",
       "      <th>speechiness</th>\n",
       "      <th>acousticness</th>\n",
       "      <th>instrumentalness</th>\n",
       "      <th>liveness</th>\n",
       "      <th>valence</th>\n",
       "      <th>tempo</th>\n",
       "      <th>duration_ms</th>\n",
       "      <th>time_signature</th>\n",
       "      <th>Cluster</th>\n",
       "    </tr>\n",
       "  </thead>\n",
       "  <tbody>\n",
       "    <tr>\n",
       "      <th>0</th>\n",
       "      <td>Tash Sultana</td>\n",
       "      <td>Terra Firma</td>\n",
       "      <td>Coma</td>\n",
       "      <td>1UTLAJpm7M7JiAT23qTy08</td>\n",
       "      <td>-2.142654</td>\n",
       "      <td>-0.503296</td>\n",
       "      <td>-1.205756</td>\n",
       "      <td>0.022967</td>\n",
       "      <td>-1.381192</td>\n",
       "      <td>-0.488450</td>\n",
       "      <td>0.798735</td>\n",
       "      <td>1.270926</td>\n",
       "      <td>-0.321327</td>\n",
       "      <td>-1.776978</td>\n",
       "      <td>0.555596</td>\n",
       "      <td>1.821292</td>\n",
       "      <td>0.210285</td>\n",
       "      <td>1</td>\n",
       "    </tr>\n",
       "    <tr>\n",
       "      <th>1</th>\n",
       "      <td>Besomorph</td>\n",
       "      <td>Wilted</td>\n",
       "      <td>Wilted</td>\n",
       "      <td>2C1Zh4eh7M07Hlx97zYVgF</td>\n",
       "      <td>-0.535447</td>\n",
       "      <td>0.332629</td>\n",
       "      <td>0.203569</td>\n",
       "      <td>-0.034570</td>\n",
       "      <td>-1.381192</td>\n",
       "      <td>-0.259799</td>\n",
       "      <td>-0.939845</td>\n",
       "      <td>-0.486150</td>\n",
       "      <td>-0.650775</td>\n",
       "      <td>-0.060532</td>\n",
       "      <td>-0.844128</td>\n",
       "      <td>-0.404597</td>\n",
       "      <td>0.210285</td>\n",
       "      <td>0</td>\n",
       "    </tr>\n",
       "    <tr>\n",
       "      <th>2</th>\n",
       "      <td>Fall Out Boy</td>\n",
       "      <td>Folie à Deux</td>\n",
       "      <td>I Don't Care - Single Version</td>\n",
       "      <td>7ewT0nLFkMD8ONbRibePr9</td>\n",
       "      <td>-0.280429</td>\n",
       "      <td>1.527510</td>\n",
       "      <td>1.612895</td>\n",
       "      <td>1.316729</td>\n",
       "      <td>-1.381192</td>\n",
       "      <td>-0.238739</td>\n",
       "      <td>-1.009538</td>\n",
       "      <td>-0.490605</td>\n",
       "      <td>2.559622</td>\n",
       "      <td>-0.468772</td>\n",
       "      <td>0.492205</td>\n",
       "      <td>0.000879</td>\n",
       "      <td>0.210285</td>\n",
       "      <td>0</td>\n",
       "    </tr>\n",
       "    <tr>\n",
       "      <th>3</th>\n",
       "      <td>Charlie Cunningham</td>\n",
       "      <td>Permanent Way</td>\n",
       "      <td>Permanent Way</td>\n",
       "      <td>4ewgXAEfRGjay6kmYSfbfW</td>\n",
       "      <td>-0.215192</td>\n",
       "      <td>-0.380366</td>\n",
       "      <td>0.767299</td>\n",
       "      <td>-2.518083</td>\n",
       "      <td>0.724012</td>\n",
       "      <td>-0.467390</td>\n",
       "      <td>1.723701</td>\n",
       "      <td>1.059273</td>\n",
       "      <td>-0.630788</td>\n",
       "      <td>-0.420960</td>\n",
       "      <td>0.938586</td>\n",
       "      <td>0.580767</td>\n",
       "      <td>0.210285</td>\n",
       "      <td>3</td>\n",
       "    </tr>\n",
       "    <tr>\n",
       "      <th>4</th>\n",
       "      <td>Oh Wonder</td>\n",
       "      <td>Home Tapes</td>\n",
       "      <td>I Like It When You Love Me</td>\n",
       "      <td>6UiS2IW9dEZwC6TluY5zSy</td>\n",
       "      <td>-0.689644</td>\n",
       "      <td>-0.960597</td>\n",
       "      <td>-0.078296</td>\n",
       "      <td>-1.014089</td>\n",
       "      <td>-1.381192</td>\n",
       "      <td>4.737422</td>\n",
       "      <td>1.915809</td>\n",
       "      <td>-0.489546</td>\n",
       "      <td>-0.541878</td>\n",
       "      <td>-1.347775</td>\n",
       "      <td>-1.235552</td>\n",
       "      <td>0.187047</td>\n",
       "      <td>0.210285</td>\n",
       "      <td>2</td>\n",
       "    </tr>\n",
       "  </tbody>\n",
       "</table>\n",
       "</div>"
      ],
      "text/plain": [
       "               artist          album                     track_name  \\\n",
       "0        Tash Sultana    Terra Firma                           Coma   \n",
       "1           Besomorph         Wilted                         Wilted   \n",
       "2        Fall Out Boy   Folie à Deux  I Don't Care - Single Version   \n",
       "3  Charlie Cunningham  Permanent Way                  Permanent Way   \n",
       "4           Oh Wonder     Home Tapes     I Like It When You Love Me   \n",
       "\n",
       "                 track_id  danceability    energy       key  loudness  \\\n",
       "0  1UTLAJpm7M7JiAT23qTy08     -2.142654 -0.503296 -1.205756  0.022967   \n",
       "1  2C1Zh4eh7M07Hlx97zYVgF     -0.535447  0.332629  0.203569 -0.034570   \n",
       "2  7ewT0nLFkMD8ONbRibePr9     -0.280429  1.527510  1.612895  1.316729   \n",
       "3  4ewgXAEfRGjay6kmYSfbfW     -0.215192 -0.380366  0.767299 -2.518083   \n",
       "4  6UiS2IW9dEZwC6TluY5zSy     -0.689644 -0.960597 -0.078296 -1.014089   \n",
       "\n",
       "       mode  speechiness  acousticness  instrumentalness  liveness   valence  \\\n",
       "0 -1.381192    -0.488450      0.798735          1.270926 -0.321327 -1.776978   \n",
       "1 -1.381192    -0.259799     -0.939845         -0.486150 -0.650775 -0.060532   \n",
       "2 -1.381192    -0.238739     -1.009538         -0.490605  2.559622 -0.468772   \n",
       "3  0.724012    -0.467390      1.723701          1.059273 -0.630788 -0.420960   \n",
       "4 -1.381192     4.737422      1.915809         -0.489546 -0.541878 -1.347775   \n",
       "\n",
       "      tempo  duration_ms  time_signature  Cluster  \n",
       "0  0.555596     1.821292        0.210285        1  \n",
       "1 -0.844128    -0.404597        0.210285        0  \n",
       "2  0.492205     0.000879        0.210285        0  \n",
       "3  0.938586     0.580767        0.210285        3  \n",
       "4 -1.235552     0.187047        0.210285        2  "
      ]
     },
     "execution_count": 161,
     "metadata": {},
     "output_type": "execute_result"
    }
   ],
   "source": [
    "#Adding Identifiers Back\n",
    "identifiers = music.drop(columns=list(music.keys())[4:18])\n",
    "finalized = pd.concat([identifiers, music_prepped], axis=1)\n",
    "finalized.head()"
   ]
  },
  {
   "cell_type": "code",
   "execution_count": 162,
   "metadata": {},
   "outputs": [
    {
     "data": {
      "text/plain": [
       "(756, 18)"
      ]
     },
     "execution_count": 162,
     "metadata": {},
     "output_type": "execute_result"
    }
   ],
   "source": [
    "finalized.shape"
   ]
  },
  {
   "cell_type": "code",
   "execution_count": 163,
   "metadata": {},
   "outputs": [],
   "source": [
    "import random"
   ]
  },
  {
   "cell_type": "code",
   "execution_count": 170,
   "metadata": {},
   "outputs": [],
   "source": [
    "def cluster_song(song):\n",
    "    song_features = sp.audio_features(sp.search(q=song,limit=1,type='track')['tracks']['items'][0]['id'])[0]\n",
    "    song_features_ = pd.DataFrame([song_features]).drop(columns=list(song_features.keys())[11:16])\n",
    "\n",
    "    X_num = song_features_\n",
    "    transformer = StandardScaler().fit(x_standardized)\n",
    "    XX = transformer.transform(X_num)\n",
    "    cluster_song_prediction = kmeans.predict(XX)[0]\n",
    "\n",
    "    print(cluster_song_prediction)"
   ]
  },
  {
   "cell_type": "code",
   "execution_count": 175,
   "metadata": {},
   "outputs": [],
   "source": [
    "def spotify_song_lookup(title):\n",
    "    \n",
    "    cluster_song(title)\n",
    "    \n",
    "    #Check Cluster Spotify Song from Cluster\n",
    "    recommend = finalized[finalized['Cluster']==cluster_song_prediction].sample(1)\n",
    "    name = recommend['track_name'].values[0]\n",
    "    artist = recommend['artist'].values[0]\n",
    "    sp.tracks(recommend['track_id'])['tracks'][0]['external_urls']\n",
    "    print('Your song is not hot, but try:\\n', sp.tracks(recommend['track_id'])['tracks'][0]['name'], '-', sp.tracks(recommend['track_id'])['tracks'][0]['artists'][0]['name'], 'at:', sp.tracks(recommend['track_id'])['tracks'][0]['external_urls']['spotify'])"
   ]
  },
  {
   "cell_type": "code",
   "execution_count": 176,
   "metadata": {},
   "outputs": [],
   "source": [
    "def song_recommender(title):\n",
    "    if title in list(billboard['Title']):\n",
    "        print ('Your song is hot. Here is another hot song:\\n', billboard.loc[random.randint(0, 100)])\n",
    "    else:\n",
    "        spotify_song_lookup(title)  "
   ]
  },
  {
   "cell_type": "code",
   "execution_count": 177,
   "metadata": {},
   "outputs": [
    {
     "name": "stdout",
     "output_type": "stream",
     "text": [
      "Your song is hot. Here is another hot song:\n",
      " Billboard Rank                     42\n",
      "Title              Beers And Sunshine\n",
      "Artists                 Darius Rucker\n",
      "Weeks on Chart                     10\n",
      "Last Weeks Rank                    46\n",
      "Highest Rank                       42\n",
      "Name: 41, dtype: object\n"
     ]
    }
   ],
   "source": [
    "song_recommender('Drivers License')"
   ]
  },
  {
   "cell_type": "code",
   "execution_count": 179,
   "metadata": {},
   "outputs": [
    {
     "name": "stdout",
     "output_type": "stream",
     "text": [
      "3\n",
      "Your song is not hot, but try:\n",
      " Watch it Grow - KR3TURE at: https://open.spotify.com/track/6mFEmTzAHJ1gzxxsCnvBKg\n"
     ]
    }
   ],
   "source": [
    "song_recommender('Permanent Way')"
   ]
  },
  {
   "cell_type": "code",
   "execution_count": 180,
   "metadata": {},
   "outputs": [
    {
     "name": "stdout",
     "output_type": "stream",
     "text": [
      "3\n",
      "Your song is not hot, but try:\n",
      " The Power of Love - Céline Dion at: https://open.spotify.com/track/5kK1Iru9ogP3Iy1zsANU1n\n"
     ]
    }
   ],
   "source": [
    "song_recommender('Come Down In Time')"
   ]
  },
  {
   "cell_type": "code",
   "execution_count": null,
   "metadata": {},
   "outputs": [],
   "source": []
  }
 ],
 "metadata": {
  "kernelspec": {
   "display_name": "Python 3",
   "language": "python",
   "name": "python3"
  },
  "language_info": {
   "codemirror_mode": {
    "name": "ipython",
    "version": 3
   },
   "file_extension": ".py",
   "mimetype": "text/x-python",
   "name": "python",
   "nbconvert_exporter": "python",
   "pygments_lexer": "ipython3",
   "version": "3.8.5"
  }
 },
 "nbformat": 4,
 "nbformat_minor": 4
}
